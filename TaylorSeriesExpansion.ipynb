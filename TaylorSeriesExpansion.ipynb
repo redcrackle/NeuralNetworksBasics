{
  "nbformat": 4,
  "nbformat_minor": 0,
  "metadata": {
    "colab": {
      "name": "TaylorSeriesExpansion.ipynb",
      "provenance": [],
      "collapsed_sections": [],
      "authorship_tag": "ABX9TyMsxnJlgtq0N+Rj879kbgiC",
      "include_colab_link": true
    },
    "kernelspec": {
      "name": "python3",
      "display_name": "Python 3"
    }
  },
  "cells": [
    {
      "cell_type": "markdown",
      "metadata": {
        "id": "view-in-github",
        "colab_type": "text"
      },
      "source": [
        "<a href=\"https://colab.research.google.com/github/redcrackle/NeuralNetworksBasics/blob/main/TaylorSeriesExpansion.ipynb\" target=\"_parent\"><img src=\"https://colab.research.google.com/assets/colab-badge.svg\" alt=\"Open In Colab\"/></a>"
      ]
    },
    {
      "cell_type": "markdown",
      "metadata": {
        "id": "Dq0n3g6ljmdJ"
      },
      "source": [
        "According to Taylor's series expansion of a function, the value of a function at $(x_0 + \\Delta x)$ is given by the following formula: $$f(x_0 + \\Delta{x}) = f(x_0) + \\frac{f'(x_0)}{1!} \\Delta{x} + \\frac{f''(x_0)}{2!} \\Delta{x}^2 + \\frac{f'''(x_0)}{3!} \\Delta{x}^3 + \\dots$$"
      ]
    },
    {
      "cell_type": "markdown",
      "metadata": {
        "id": "glLmCm5cl_au"
      },
      "source": [
        "Let's verify this formula by computing an example.\n",
        "\n",
        "Suppose the function $f(x)$ is $f(x) = (x - 1)^2 + x^3$. Let's plot and see how it looks."
      ]
    },
    {
      "cell_type": "code",
      "metadata": {
        "id": "SD7QAlJOj_aK",
        "colab": {
          "base_uri": "https://localhost:8080/",
          "height": 282
        },
        "outputId": "977ba718-e9a7-4d6b-f547-c3dc90d47e0b"
      },
      "source": [
        "from matplotlib import pyplot as plt\n",
        "import numpy as np\n",
        "\n",
        "x = np.arange(-3, 3, 0.1)\n",
        "y = np.power(x - 1, 2) + np.power(x, 3)\n",
        "plt.plot(x, y)"
      ],
      "execution_count": 10,
      "outputs": [
        {
          "output_type": "execute_result",
          "data": {
            "text/plain": [
              "[<matplotlib.lines.Line2D at 0x7f0e7b8a14a8>]"
            ]
          },
          "metadata": {
            "tags": []
          },
          "execution_count": 10
        },
        {
          "output_type": "display_data",
          "data": {
            "image/png": "[encoded data removed]",
            "text/plain": [
              "<Figure size 432x288 with 1 Axes>"
            ]
          },
          "metadata": {
            "tags": [],
            "needs_background": "light"
          }
        }
      ]
    },
    {
      "cell_type": "markdown",
      "metadata": {
        "id": "fBv-L5gbokFv"
      },
      "source": [
        "Derivatives of this function at $x_0$ are \n",
        "$$f'(x_0) = 2(x_0 - 1) + 3x_0^2$$ \n",
        "$$f''(x_0) = 2 + 6x_0$$ \n",
        "$$f'''(x_0) = 6$$\n",
        "$$f''''(x_0) = f'''''(x_0) = \\dots = 0$$\n",
        "\n"
      ]
    },
    {
      "cell_type": "markdown",
      "metadata": {
        "id": "gu1SOxuPqyTk"
      },
      "source": [
        "Value of the function $f(x)$ and its derivatives at $x_0 = 2$ are \n",
        "$$f(2) = (2 - 1)^2 + 2^3 = 1 + 8 = 9$$ \n",
        "$$f'(2) = 2(2 - 1) + 3(2)^2 = 2 + 12 = 14$$ \n",
        "$$f''(2) = 2 + 6 (2) = 2 + 12 = 14$$ \n",
        "$$f'''(2) = 6$$\n",
        "$$f''''(2) = f'''''(2) = \\dots = 0$$\n",
        "\n",
        "Let's calculate the value of function $f(x)$ at $x_0 = 2.01$ using Taylor series expansion. Plugging in $x_0 = 2$ and $\\Delta{x} = 0.01$ in the Taylor series expansion, we get\n",
        "\n",
        "$$f(2 + 0.01) = f(2) + \\frac{f'(2)}{1!} 0.01 + \\frac{f''(2)}{2!} 0.01^2 + \\frac{f'''(2)}{3!} 0.01^3 + \\frac{f''''(2)}{4!} 0.01^3 + \\dots$$\n",
        "\n",
        "i.e.\n",
        "\n",
        "$$f(2.01) = 9 + \\frac{14}{1} 0.01 + \\frac{14}{2} 0.01^2 + \\frac{6}{6} 0.01^3 + 0$$\n",
        "\n",
        "$$\\therefore f(2.01) = 9 + 0.14 + 0.0007 + 0.000001$$\n",
        "\n",
        "$$\\therefore f(2.01) = 9.1400701$$\n",
        "\n",
        "Let's verify this in Python."
      ]
    },
    {
      "cell_type": "code",
      "metadata": {
        "colab": {
          "base_uri": "https://localhost:8080/"
        },
        "id": "i3yfrRVBpTXS",
        "outputId": "aeac814c-3492-47d5-9cdb-cde2169786f0"
      },
      "source": [
        "x1 = 2.01\n",
        "y1 = np.power(2.01 - 1, 2) + np.power(2.01, 3)\n",
        "print(y1)"
      ],
      "execution_count": 12,
      "outputs": [
        {
          "output_type": "stream",
          "text": [
            "9.140700999999996\n"
          ],
          "name": "stdout"
        }
      ]
    },
    {
      "cell_type": "markdown",
      "metadata": {
        "id": "zxb3m94Tufsp"
      },
      "source": [
        "As you can see, except for the numerical rounding errors due to floating point operation, the above answer matches with the one obtained using Taylor series expansion."
      ]
    }
  ]
}